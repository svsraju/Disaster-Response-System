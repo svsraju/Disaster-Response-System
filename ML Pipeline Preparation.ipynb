{
 "cells": [
  {
   "cell_type": "markdown",
   "metadata": {},
   "source": [
    "# ML Pipeline Preparation\n",
    "Follow the instructions below to help you create your ML pipeline.\n",
    "### 1. Import libraries and load data from database.\n",
    "- Import Python libraries\n",
    "- Load dataset from database with [`read_sql_table`](https://pandas.pydata.org/pandas-docs/stable/generated/pandas.read_sql_table.html)\n",
    "- Define feature and target variables X and Y"
   ]
  },
  {
   "cell_type": "code",
   "execution_count": 87,
   "metadata": {},
   "outputs": [
    {
     "name": "stdout",
     "output_type": "stream",
     "text": [
      "[nltk_data] Downloading package punkt to /root/nltk_data...\n",
      "[nltk_data]   Package punkt is already up-to-date!\n",
      "[nltk_data] Downloading package wordnet to /root/nltk_data...\n",
      "[nltk_data]   Package wordnet is already up-to-date!\n",
      "[nltk_data] Downloading package averaged_perceptron_tagger to\n",
      "[nltk_data]     /root/nltk_data...\n",
      "[nltk_data]   Package averaged_perceptron_tagger is already up-to-\n",
      "[nltk_data]       date!\n",
      "[nltk_data] Downloading package stopwords to /root/nltk_data...\n",
      "[nltk_data]   Package stopwords is already up-to-date!\n"
     ]
    }
   ],
   "source": [
    "# import libraries\n",
    "import nltk\n",
    "nltk.download(['punkt', 'wordnet', 'averaged_perceptron_tagger','stopwords'])\n",
    "import re\n",
    "import numpy as np\n",
    "import pandas as pd\n",
    "from sqlalchemy import create_engine\n",
    "from nltk.tokenize import word_tokenize\n",
    "from nltk.stem import WordNetLemmatizer\n",
    "\n",
    "from sklearn.model_selection import train_test_split\n",
    "from sklearn.pipeline import Pipeline, FeatureUnion\n",
    "from sklearn.base import BaseEstimator, TransformerMixin\n",
    "from sklearn.feature_extraction.text import CountVectorizer, TfidfTransformer\n",
    "\n",
    "\n",
    "from sklearn.datasets import make_multilabel_classification\n",
    "from sklearn.multioutput import MultiOutputClassifier\n",
    "from sklearn.ensemble import RandomForestClassifier\n",
    "from sklearn.model_selection import GridSearchCV\n",
    "from sklearn.metrics import confusion_matrix\n",
    "from sklearn.metrics import classification_report\n",
    "\n",
    "#from sklearn import naive_bayes"
   ]
  },
  {
   "cell_type": "code",
   "execution_count": 131,
   "metadata": {},
   "outputs": [],
   "source": [
    "# load data from database\n",
    "engine = create_engine('sqlite:///InsertDatabaseName.db')\n",
    "df = pd.read_sql_table('final_table', engine)  \n",
    "X = df[\"message\"]\n",
    "y = df.drop([\"id\", \"message\",\"original\", \"genre\"], axis = 1)\n",
    "category_names = y.columns.tolist()"
   ]
  },
  {
   "cell_type": "code",
   "execution_count": 132,
   "metadata": {},
   "outputs": [
    {
     "data": {
      "text/plain": [
       "0    Weather update - a cold front from Cuba that c...\n",
       "1              Is the Hurricane over or is it not over\n",
       "2                      Looking for someone but no name\n",
       "3    UN reports Leogane 80-90 destroyed. Only Hospi...\n",
       "4    says: west side of Haiti, rest of the country ...\n",
       "Name: message, dtype: object"
      ]
     },
     "execution_count": 132,
     "metadata": {},
     "output_type": "execute_result"
    }
   ],
   "source": [
    "X.head()"
   ]
  },
  {
   "cell_type": "code",
   "execution_count": 133,
   "metadata": {},
   "outputs": [
    {
     "data": {
      "text/html": [
       "<div>\n",
       "<style scoped>\n",
       "    .dataframe tbody tr th:only-of-type {\n",
       "        vertical-align: middle;\n",
       "    }\n",
       "\n",
       "    .dataframe tbody tr th {\n",
       "        vertical-align: top;\n",
       "    }\n",
       "\n",
       "    .dataframe thead th {\n",
       "        text-align: right;\n",
       "    }\n",
       "</style>\n",
       "<table border=\"1\" class=\"dataframe\">\n",
       "  <thead>\n",
       "    <tr style=\"text-align: right;\">\n",
       "      <th></th>\n",
       "      <th>related</th>\n",
       "      <th>request</th>\n",
       "      <th>offer</th>\n",
       "      <th>aid_related</th>\n",
       "      <th>medical_help</th>\n",
       "      <th>medical_products</th>\n",
       "      <th>search_and_rescue</th>\n",
       "      <th>security</th>\n",
       "      <th>military</th>\n",
       "      <th>child_alone</th>\n",
       "      <th>...</th>\n",
       "      <th>aid_centers</th>\n",
       "      <th>other_infrastructure</th>\n",
       "      <th>weather_related</th>\n",
       "      <th>floods</th>\n",
       "      <th>storm</th>\n",
       "      <th>fire</th>\n",
       "      <th>earthquake</th>\n",
       "      <th>cold</th>\n",
       "      <th>other_weather</th>\n",
       "      <th>direct_report</th>\n",
       "    </tr>\n",
       "  </thead>\n",
       "  <tbody>\n",
       "    <tr>\n",
       "      <th>0</th>\n",
       "      <td>1</td>\n",
       "      <td>0</td>\n",
       "      <td>0</td>\n",
       "      <td>0</td>\n",
       "      <td>0</td>\n",
       "      <td>0</td>\n",
       "      <td>0</td>\n",
       "      <td>0</td>\n",
       "      <td>0</td>\n",
       "      <td>0</td>\n",
       "      <td>...</td>\n",
       "      <td>0</td>\n",
       "      <td>0</td>\n",
       "      <td>0</td>\n",
       "      <td>0</td>\n",
       "      <td>0</td>\n",
       "      <td>0</td>\n",
       "      <td>0</td>\n",
       "      <td>0</td>\n",
       "      <td>0</td>\n",
       "      <td>0</td>\n",
       "    </tr>\n",
       "    <tr>\n",
       "      <th>1</th>\n",
       "      <td>1</td>\n",
       "      <td>0</td>\n",
       "      <td>0</td>\n",
       "      <td>1</td>\n",
       "      <td>0</td>\n",
       "      <td>0</td>\n",
       "      <td>0</td>\n",
       "      <td>0</td>\n",
       "      <td>0</td>\n",
       "      <td>0</td>\n",
       "      <td>...</td>\n",
       "      <td>0</td>\n",
       "      <td>0</td>\n",
       "      <td>1</td>\n",
       "      <td>0</td>\n",
       "      <td>1</td>\n",
       "      <td>0</td>\n",
       "      <td>0</td>\n",
       "      <td>0</td>\n",
       "      <td>0</td>\n",
       "      <td>0</td>\n",
       "    </tr>\n",
       "    <tr>\n",
       "      <th>2</th>\n",
       "      <td>1</td>\n",
       "      <td>0</td>\n",
       "      <td>0</td>\n",
       "      <td>0</td>\n",
       "      <td>0</td>\n",
       "      <td>0</td>\n",
       "      <td>0</td>\n",
       "      <td>0</td>\n",
       "      <td>0</td>\n",
       "      <td>0</td>\n",
       "      <td>...</td>\n",
       "      <td>0</td>\n",
       "      <td>0</td>\n",
       "      <td>0</td>\n",
       "      <td>0</td>\n",
       "      <td>0</td>\n",
       "      <td>0</td>\n",
       "      <td>0</td>\n",
       "      <td>0</td>\n",
       "      <td>0</td>\n",
       "      <td>0</td>\n",
       "    </tr>\n",
       "    <tr>\n",
       "      <th>3</th>\n",
       "      <td>1</td>\n",
       "      <td>1</td>\n",
       "      <td>0</td>\n",
       "      <td>1</td>\n",
       "      <td>0</td>\n",
       "      <td>1</td>\n",
       "      <td>0</td>\n",
       "      <td>0</td>\n",
       "      <td>0</td>\n",
       "      <td>0</td>\n",
       "      <td>...</td>\n",
       "      <td>0</td>\n",
       "      <td>0</td>\n",
       "      <td>0</td>\n",
       "      <td>0</td>\n",
       "      <td>0</td>\n",
       "      <td>0</td>\n",
       "      <td>0</td>\n",
       "      <td>0</td>\n",
       "      <td>0</td>\n",
       "      <td>0</td>\n",
       "    </tr>\n",
       "    <tr>\n",
       "      <th>4</th>\n",
       "      <td>1</td>\n",
       "      <td>0</td>\n",
       "      <td>0</td>\n",
       "      <td>0</td>\n",
       "      <td>0</td>\n",
       "      <td>0</td>\n",
       "      <td>0</td>\n",
       "      <td>0</td>\n",
       "      <td>0</td>\n",
       "      <td>0</td>\n",
       "      <td>...</td>\n",
       "      <td>0</td>\n",
       "      <td>0</td>\n",
       "      <td>0</td>\n",
       "      <td>0</td>\n",
       "      <td>0</td>\n",
       "      <td>0</td>\n",
       "      <td>0</td>\n",
       "      <td>0</td>\n",
       "      <td>0</td>\n",
       "      <td>0</td>\n",
       "    </tr>\n",
       "  </tbody>\n",
       "</table>\n",
       "<p>5 rows × 36 columns</p>\n",
       "</div>"
      ],
      "text/plain": [
       "   related  request  offer  aid_related  medical_help  medical_products  \\\n",
       "0        1        0      0            0             0                 0   \n",
       "1        1        0      0            1             0                 0   \n",
       "2        1        0      0            0             0                 0   \n",
       "3        1        1      0            1             0                 1   \n",
       "4        1        0      0            0             0                 0   \n",
       "\n",
       "   search_and_rescue  security  military  child_alone      ...        \\\n",
       "0                  0         0         0            0      ...         \n",
       "1                  0         0         0            0      ...         \n",
       "2                  0         0         0            0      ...         \n",
       "3                  0         0         0            0      ...         \n",
       "4                  0         0         0            0      ...         \n",
       "\n",
       "   aid_centers  other_infrastructure  weather_related  floods  storm  fire  \\\n",
       "0            0                     0                0       0      0     0   \n",
       "1            0                     0                1       0      1     0   \n",
       "2            0                     0                0       0      0     0   \n",
       "3            0                     0                0       0      0     0   \n",
       "4            0                     0                0       0      0     0   \n",
       "\n",
       "   earthquake  cold  other_weather  direct_report  \n",
       "0           0     0              0              0  \n",
       "1           0     0              0              0  \n",
       "2           0     0              0              0  \n",
       "3           0     0              0              0  \n",
       "4           0     0              0              0  \n",
       "\n",
       "[5 rows x 36 columns]"
      ]
     },
     "execution_count": 133,
     "metadata": {},
     "output_type": "execute_result"
    }
   ],
   "source": [
    "y.head()"
   ]
  },
  {
   "cell_type": "markdown",
   "metadata": {},
   "source": [
    "### 2. Write a tokenization function to process your text data"
   ]
  },
  {
   "cell_type": "code",
   "execution_count": 135,
   "metadata": {},
   "outputs": [],
   "source": [
    "def tokenize(text):\n",
    "    text = re.sub(r\"[^a-zA-Z0-9]\", \" \", text)\n",
    "    tokens = [ w for w in word_tokenize(text) if w not in nltk.corpus.stopwords.words(\"english\")]\n",
    "    lemmatizer = WordNetLemmatizer()\n",
    "    clean_tokens = []\n",
    "    for tok in tokens:\n",
    "        clean_tok = lemmatizer.lemmatize(tok).lower().strip()\n",
    "        clean_tokens.append(clean_tok)\n",
    "    return clean_tokens"
   ]
  },
  {
   "cell_type": "code",
   "execution_count": 136,
   "metadata": {},
   "outputs": [
    {
     "data": {
      "text/plain": [
       "['weather', 'update', 'cold', 'front', 'cuba', 'could', 'pas', 'haiti']"
      ]
     },
     "execution_count": 136,
     "metadata": {},
     "output_type": "execute_result"
    }
   ],
   "source": [
    "tokenize(X[0])"
   ]
  },
  {
   "cell_type": "markdown",
   "metadata": {},
   "source": [
    "### 3. Build a machine learning pipeline\n",
    "This machine pipeline should take in the `message` column as input and output classification results on the other 36 categories in the dataset. You may find the [MultiOutputClassifier](http://scikit-learn.org/stable/modules/generated/sklearn.multioutput.MultiOutputClassifier.html) helpful for predicting multiple target variables."
   ]
  },
  {
   "cell_type": "code",
   "execution_count": 170,
   "metadata": {},
   "outputs": [],
   "source": [
    "pipeline = Pipeline([\n",
    "    ('vect', CountVectorizer(tokenizer=tokenize)),\n",
    "    ('tfidf',TfidfTransformer()),\n",
    "    ('clf', MultiOutputClassifier(RandomForestClassifier()))\n",
    "])"
   ]
  },
  {
   "cell_type": "markdown",
   "metadata": {},
   "source": [
    "### 4. Train pipeline\n",
    "- Split data into train and test sets\n",
    "- Train pipeline"
   ]
  },
  {
   "cell_type": "code",
   "execution_count": 171,
   "metadata": {},
   "outputs": [],
   "source": [
    "X_train, X_test, y_train, y_test = train_test_split(X, y, test_size= 0.2)"
   ]
  },
  {
   "cell_type": "code",
   "execution_count": 172,
   "metadata": {},
   "outputs": [
    {
     "data": {
      "text/plain": [
       "Pipeline(memory=None,\n",
       "     steps=[('vect', CountVectorizer(analyzer='word', binary=False, decode_error='strict',\n",
       "        dtype=<class 'numpy.int64'>, encoding='utf-8', input='content',\n",
       "        lowercase=True, max_df=1.0, max_features=None, min_df=1,\n",
       "        ngram_range=(1, 1), preprocessor=None, stop_words=None,\n",
       "        strip...oob_score=False, random_state=None, verbose=0,\n",
       "            warm_start=False),\n",
       "           n_jobs=1))])"
      ]
     },
     "execution_count": 172,
     "metadata": {},
     "output_type": "execute_result"
    }
   ],
   "source": [
    "pipeline.fit(X_train, y_train)"
   ]
  },
  {
   "cell_type": "markdown",
   "metadata": {},
   "source": [
    "### 5. Test your model\n",
    "Report the f1 score, precision and recall for each output category of the dataset. You can do this by iterating through the columns and calling sklearn's `classification_report` on each."
   ]
  },
  {
   "cell_type": "code",
   "execution_count": null,
   "metadata": {},
   "outputs": [],
   "source": [
    "y_pred = pipeline.predict(X_test)"
   ]
  },
  {
   "cell_type": "code",
   "execution_count": 174,
   "metadata": {
    "scrolled": false
   },
   "outputs": [
    {
     "ename": "ValueError",
     "evalue": "Unknown label type: (       related  request  offer  aid_related  medical_help  medical_products  \\\n17210        1        0      0            0             0                 0   \n13454        1        0      0            0             0                 0   \n17930        1        0      0            1             0                 0   \n25767        1        0      0            0             0                 0   \n10727        1        0      0            1             0                 0   \n22652        1        0      0            0             0                 0   \n20804        1        0      0            1             0                 0   \n16273        1        1      0            1             1                 0   \n9789         0        0      0            0             0                 0   \n6560         0        0      0            0             0                 0   \n20987        1        0      0            0             0                 0   \n21225        0        0      0            0             0                 0   \n25370        1        0      0            0             0                 0   \n16987        1        0      0            1             0                 0   \n21665        0        0      0            0             0                 0   \n10688        1        0      0            1             0                 0   \n20571        1        0      0            1             0                 0   \n20192        0        0      0            0             0                 0   \n6424         1        1      0            1             0                 0   \n4294         1        1      0            1             0                 0   \n14191        1        0      0            1             0                 0   \n9166         0        0      0            0             0                 0   \n21611        0        0      0            0             0                 0   \n12281        2        0      0            0             0                 0   \n25589        1        0      0            0             0                 0   \n5171         1        0      0            0             0                 0   \n14644        1        0      0            0             0                 0   \n5304         0        0      0            0             0                 0   \n8430         0        0      0            0             0                 0   \n9448         0        0      0            0             0                 0   \n...        ...      ...    ...          ...           ...               ...   \n1668         1        1      0            1             0                 0   \n10552        1        0      0            1             0                 0   \n9163         1        1      0            1             0                 0   \n23488        0        0      0            0             0                 0   \n15618        1        0      0            0             0                 0   \n20301        1        1      0            1             1                 1   \n2091         1        1      0            0             0                 0   \n8944         1        0      0            0             0                 0   \n20112        1        0      0            0             0                 0   \n11932        2        0      0            0             0                 0   \n22729        1        0      0            0             0                 0   \n16381        1        0      0            1             0                 0   \n11664        0        0      0            0             0                 0   \n20516        0        0      0            0             0                 0   \n23026        1        0      0            0             0                 0   \n24048        1        0      0            1             1                 0   \n7451         1        0      0            0             0                 0   \n17277        1        0      0            1             0                 0   \n4978         1        1      0            1             1                 1   \n3472         1        0      0            0             0                 0   \n2823         1        1      0            1             0                 0   \n3389         1        0      0            0             0                 0   \n8865         1        0      0            0             0                 0   \n11133        1        0      0            1             0                 0   \n3934         1        0      0            1             0                 0   \n4430         1        0      0            1             0                 0   \n1228         1        1      0            1             0                 0   \n18186        0        0      0            0             0                 0   \n196          1        1      0            1             0                 0   \n14067        1        0      0            0             0                 0   \n\n       search_and_rescue  security  military  child_alone      ...        \\\n17210                  0         0         0            0      ...         \n13454                  0         0         0            0      ...         \n17930                  0         0         0            0      ...         \n25767                  0         0         0            0      ...         \n10727                  0         0         0            0      ...         \n22652                  0         0         0            0      ...         \n20804                  0         0         0            0      ...         \n16273                  0         0         0            0      ...         \n9789                   0         0         0            0      ...         \n6560                   0         0         0            0      ...         \n20987                  0         0         0            0      ...         \n21225                  0         0         0            0      ...         \n25370                  0         0         0            0      ...         \n16987                  0         0         0            0      ...         \n21665                  0         0         0            0      ...         \n10688                  0         0         0            0      ...         \n20571                  0         0         0            0      ...         \n20192                  0         0         0            0      ...         \n6424                   0         0         0            0      ...         \n4294                   0         0         0            0      ...         \n14191                  0         0         0            0      ...         \n9166                   0         0         0            0      ...         \n21611                  0         0         0            0      ...         \n12281                  0         0         0            0      ...         \n25589                  0         0         0            0      ...         \n5171                   0         0         0            0      ...         \n14644                  0         0         0            0      ...         \n5304                   0         0         0            0      ...         \n8430                   0         0         0            0      ...         \n9448                   0         0         0            0      ...         \n...                  ...       ...       ...          ...      ...         \n1668                   0         0         0            0      ...         \n10552                  0         0         0            0      ...         \n9163                   0         0         0            0      ...         \n23488                  0         0         0            0      ...         \n15618                  0         0         0            0      ...         \n20301                  0         0         0            0      ...         \n2091                   0         0         0            0      ...         \n8944                   0         0         0            0      ...         \n20112                  0         0         0            0      ...         \n11932                  0         0         0            0      ...         \n22729                  0         0         0            0      ...         \n16381                  1         0         0            0      ...         \n11664                  0         0         0            0      ...         \n20516                  0         0         0            0      ...         \n23026                  0         0         0            0      ...         \n24048                  0         0         0            0      ...         \n7451                   0         0         0            0      ...         \n17277                  0         0         1            0      ...         \n4978                   0         0         0            0      ...         \n3472                   0         0         0            0      ...         \n2823                   0         0         0            0      ...         \n3389                   0         0         0            0      ...         \n8865                   0         0         0            0      ...         \n11133                  0         0         0            0      ...         \n3934                   0         0         0            0      ...         \n4430                   0         0         0            0      ...         \n1228                   0         0         0            0      ...         \n18186                  0         0         0            0      ...         \n196                    0         0         0            0      ...         \n14067                  0         0         0            0      ...         \n\n       aid_centers  other_infrastructure  weather_related  floods  storm  \\\n17210            0                     0                1       0      1   \n13454            0                     0                0       0      0   \n17930            0                     0                1       0      0   \n25767            0                     0                0       0      0   \n10727            0                     0                0       0      0   \n22652            0                     0                0       0      0   \n20804            0                     0                0       0      0   \n16273            0                     0                1       1      0   \n9789             0                     0                0       0      0   \n6560             0                     0                0       0      0   \n20987            0                     0                0       0      0   \n21225            0                     0                0       0      0   \n25370            0                     0                0       0      0   \n16987            0                     0                0       0      0   \n21665            0                     0                0       0      0   \n10688            0                     0                1       0      0   \n20571            0                     1                0       0      0   \n20192            0                     0                0       0      0   \n6424             0                     0                0       0      0   \n4294             0                     0                0       0      0   \n14191            0                     0                0       0      0   \n9166             0                     0                0       0      0   \n21611            0                     0                0       0      0   \n12281            0                     0                0       0      0   \n25589            0                     0                0       0      0   \n5171             0                     0                0       0      0   \n14644            0                     0                0       0      0   \n5304             0                     0                0       0      0   \n8430             0                     0                0       0      0   \n9448             0                     0                0       0      0   \n...            ...                   ...              ...     ...    ...   \n1668             0                     0                0       0      0   \n10552            0                     0                0       0      0   \n9163             0                     0                1       0      0   \n23488            0                     0                0       0      0   \n15618            0                     0                1       0      0   \n20301            0                     0                0       0      0   \n2091             0                     0                0       0      0   \n8944             0                     0                1       0      1   \n20112            0                     0                0       0      0   \n11932            0                     0                0       0      0   \n22729            0                     0                0       0      0   \n16381            0                     0                1       0      0   \n11664            0                     0                0       0      0   \n20516            0                     0                0       0      0   \n23026            0                     0                0       0      0   \n24048            0                     0                1       1      0   \n7451             0                     0                1       1      0   \n17277            0                     0                1       1      1   \n4978             0                     0                0       0      0   \n3472             0                     0                0       0      0   \n2823             0                     0                0       0      0   \n3389             0                     0                0       0      0   \n8865             0                     0                0       0      0   \n11133            0                     0                1       0      1   \n3934             0                     0                0       0      0   \n4430             0                     0                0       0      0   \n1228             0                     0                0       0      0   \n18186            0                     0                0       0      0   \n196              0                     0                0       0      0   \n14067            0                     0                1       0      0   \n\n       fire  earthquake  cold  other_weather  direct_report  \n17210     0           0     0              0              1  \n13454     0           0     0              0              0  \n17930     0           1     0              0              0  \n25767     0           0     0              0              0  \n10727     0           0     0              0              1  \n22652     0           0     0              0              0  \n20804     0           0     0              0              1  \n16273     0           0     0              0              1  \n9789      0           0     0              0              0  \n6560      0           0     0              0              0  \n20987     0           0     0              0              0  \n21225     0           0     0              0              0  \n25370     0           0     0              0              0  \n16987     0           0     0              0              0  \n21665     0           0     0              0              0  \n10688     0           0     0              1              0  \n20571     0           0     0              0              0  \n20192     0           0     0              0              0  \n6424      0           0     0              0              1  \n4294      0           0     0              0              1  \n14191     0           0     0              0              0  \n9166      0           0     0              0              0  \n21611     0           0     0              0              0  \n12281     0           0     0              0              0  \n25589     0           0     0              0              0  \n5171      0           0     0              0              0  \n14644     0           0     0              0              0  \n5304      0           0     0              0              0  \n8430      0           0     0              0              0  \n9448      0           0     0              0              0  \n...     ...         ...   ...            ...            ...  \n1668      0           0     0              0              1  \n10552     0           0     0              0              0  \n9163      0           1     0              0              1  \n23488     0           0     0              0              0  \n15618     0           1     0              0              0  \n20301     0           0     0              0              1  \n2091      0           0     0              0              1  \n8944      0           0     0              0              0  \n20112     0           0     0              0              0  \n11932     0           0     0              0              0  \n22729     0           0     0              0              0  \n16381     0           1     0              0              0  \n11664     0           0     0              0              0  \n20516     0           0     0              0              0  \n23026     0           0     0              0              0  \n24048     0           0     0              0              0  \n7451      0           0     0              1              0  \n17277     0           1     0              0              0  \n4978      0           0     0              0              1  \n3472      0           0     0              0              0  \n2823      0           0     0              0              1  \n3389      0           0     0              0              0  \n8865      0           0     0              0              0  \n11133     0           0     0              1              0  \n3934      0           0     0              0              0  \n4430      0           0     0              0              1  \n1228      0           0     0              0              1  \n18186     0           0     0              0              0  \n196       0           0     0              0              0  \n14067     0           1     0              0              1  \n\n[5244 rows x 36 columns], array([[1, 0, 0, ..., 0, 0, 0],\n       [1, 0, 0, ..., 0, 0, 0],\n       [1, 0, 0, ..., 0, 0, 0],\n       ..., \n       [0, 0, 0, ..., 0, 0, 0],\n       [1, 1, 0, ..., 0, 0, 1],\n       [1, 0, 0, ..., 0, 0, 0]]))",
     "output_type": "error",
     "traceback": [
      "\u001b[0;31m---------------------------------------------------------------------------\u001b[0m",
      "\u001b[0;31mValueError\u001b[0m                                Traceback (most recent call last)",
      "\u001b[0;32m<ipython-input-174-b20cc23648c5>\u001b[0m in \u001b[0;36m<module>\u001b[0;34m()\u001b[0m\n\u001b[0;32m----> 1\u001b[0;31m \u001b[0mclassification_report\u001b[0m\u001b[0;34m(\u001b[0m\u001b[0my_test\u001b[0m\u001b[0;34m,\u001b[0m \u001b[0my_pred\u001b[0m\u001b[0;34m,\u001b[0m\u001b[0mtarget_names\u001b[0m\u001b[0;34m=\u001b[0m\u001b[0my\u001b[0m\u001b[0;34m.\u001b[0m\u001b[0mcolumns\u001b[0m\u001b[0;34m)\u001b[0m\u001b[0;34m\u001b[0m\u001b[0m\n\u001b[0m",
      "\u001b[0;32m/opt/conda/lib/python3.6/site-packages/sklearn/metrics/classification.py\u001b[0m in \u001b[0;36mclassification_report\u001b[0;34m(y_true, y_pred, labels, target_names, sample_weight, digits)\u001b[0m\n\u001b[1;32m   1419\u001b[0m \u001b[0;34m\u001b[0m\u001b[0m\n\u001b[1;32m   1420\u001b[0m     \u001b[0;32mif\u001b[0m \u001b[0mlabels\u001b[0m \u001b[0;32mis\u001b[0m \u001b[0;32mNone\u001b[0m\u001b[0;34m:\u001b[0m\u001b[0;34m\u001b[0m\u001b[0m\n\u001b[0;32m-> 1421\u001b[0;31m         \u001b[0mlabels\u001b[0m \u001b[0;34m=\u001b[0m \u001b[0munique_labels\u001b[0m\u001b[0;34m(\u001b[0m\u001b[0my_true\u001b[0m\u001b[0;34m,\u001b[0m \u001b[0my_pred\u001b[0m\u001b[0;34m)\u001b[0m\u001b[0;34m\u001b[0m\u001b[0m\n\u001b[0m\u001b[1;32m   1422\u001b[0m     \u001b[0;32melse\u001b[0m\u001b[0;34m:\u001b[0m\u001b[0;34m\u001b[0m\u001b[0m\n\u001b[1;32m   1423\u001b[0m         \u001b[0mlabels\u001b[0m \u001b[0;34m=\u001b[0m \u001b[0mnp\u001b[0m\u001b[0;34m.\u001b[0m\u001b[0masarray\u001b[0m\u001b[0;34m(\u001b[0m\u001b[0mlabels\u001b[0m\u001b[0;34m)\u001b[0m\u001b[0;34m\u001b[0m\u001b[0m\n",
      "\u001b[0;32m/opt/conda/lib/python3.6/site-packages/sklearn/utils/multiclass.py\u001b[0m in \u001b[0;36munique_labels\u001b[0;34m(*ys)\u001b[0m\n\u001b[1;32m     95\u001b[0m     \u001b[0m_unique_labels\u001b[0m \u001b[0;34m=\u001b[0m \u001b[0m_FN_UNIQUE_LABELS\u001b[0m\u001b[0;34m.\u001b[0m\u001b[0mget\u001b[0m\u001b[0;34m(\u001b[0m\u001b[0mlabel_type\u001b[0m\u001b[0;34m,\u001b[0m \u001b[0;32mNone\u001b[0m\u001b[0;34m)\u001b[0m\u001b[0;34m\u001b[0m\u001b[0m\n\u001b[1;32m     96\u001b[0m     \u001b[0;32mif\u001b[0m \u001b[0;32mnot\u001b[0m \u001b[0m_unique_labels\u001b[0m\u001b[0;34m:\u001b[0m\u001b[0;34m\u001b[0m\u001b[0m\n\u001b[0;32m---> 97\u001b[0;31m         \u001b[0;32mraise\u001b[0m \u001b[0mValueError\u001b[0m\u001b[0;34m(\u001b[0m\u001b[0;34m\"Unknown label type: %s\"\u001b[0m \u001b[0;34m%\u001b[0m \u001b[0mrepr\u001b[0m\u001b[0;34m(\u001b[0m\u001b[0mys\u001b[0m\u001b[0;34m)\u001b[0m\u001b[0;34m)\u001b[0m\u001b[0;34m\u001b[0m\u001b[0m\n\u001b[0m\u001b[1;32m     98\u001b[0m \u001b[0;34m\u001b[0m\u001b[0m\n\u001b[1;32m     99\u001b[0m     \u001b[0mys_labels\u001b[0m \u001b[0;34m=\u001b[0m \u001b[0mset\u001b[0m\u001b[0;34m(\u001b[0m\u001b[0mchain\u001b[0m\u001b[0;34m.\u001b[0m\u001b[0mfrom_iterable\u001b[0m\u001b[0;34m(\u001b[0m\u001b[0m_unique_labels\u001b[0m\u001b[0;34m(\u001b[0m\u001b[0my\u001b[0m\u001b[0;34m)\u001b[0m \u001b[0;32mfor\u001b[0m \u001b[0my\u001b[0m \u001b[0;32min\u001b[0m \u001b[0mys\u001b[0m\u001b[0;34m)\u001b[0m\u001b[0;34m)\u001b[0m\u001b[0;34m\u001b[0m\u001b[0m\n",
      "\u001b[0;31mValueError\u001b[0m: Unknown label type: (       related  request  offer  aid_related  medical_help  medical_products  \\\n17210        1        0      0            0             0                 0   \n13454        1        0      0            0             0                 0   \n17930        1        0      0            1             0                 0   \n25767        1        0      0            0             0                 0   \n10727        1        0      0            1             0                 0   \n22652        1        0      0            0             0                 0   \n20804        1        0      0            1             0                 0   \n16273        1        1      0            1             1                 0   \n9789         0        0      0            0             0                 0   \n6560         0        0      0            0             0                 0   \n20987        1        0      0            0             0                 0   \n21225        0        0      0            0             0                 0   \n25370        1        0      0            0             0                 0   \n16987        1        0      0            1             0                 0   \n21665        0        0      0            0             0                 0   \n10688        1        0      0            1             0                 0   \n20571        1        0      0            1             0                 0   \n20192        0        0      0            0             0                 0   \n6424         1        1      0            1             0                 0   \n4294         1        1      0            1             0                 0   \n14191        1        0      0            1             0                 0   \n9166         0        0      0            0             0                 0   \n21611        0        0      0            0             0                 0   \n12281        2        0      0            0             0                 0   \n25589        1        0      0            0             0                 0   \n5171         1        0      0            0             0                 0   \n14644        1        0      0            0             0                 0   \n5304         0        0      0            0             0                 0   \n8430         0        0      0            0             0                 0   \n9448         0        0      0            0             0                 0   \n...        ...      ...    ...          ...           ...               ...   \n1668         1        1      0            1             0                 0   \n10552        1        0      0            1             0                 0   \n9163         1        1      0            1             0                 0   \n23488        0        0      0            0             0                 0   \n15618        1        0      0            0             0                 0   \n20301        1        1      0            1             1                 1   \n2091         1        1      0            0             0                 0   \n8944         1        0      0            0             0                 0   \n20112        1        0      0            0             0                 0   \n11932        2        0      0            0             0                 0   \n22729        1        0      0            0             0                 0   \n16381        1        0      0            1             0                 0   \n11664        0        0      0            0             0                 0   \n20516        0        0      0            0             0                 0   \n23026        1        0      0            0             0                 0   \n24048        1        0      0            1             1                 0   \n7451         1        0      0            0             0                 0   \n17277        1        0      0            1             0                 0   \n4978         1        1      0            1             1                 1   \n3472         1        0      0            0             0                 0   \n2823         1        1      0            1             0                 0   \n3389         1        0      0            0             0                 0   \n8865         1        0      0            0             0                 0   \n11133        1        0      0            1             0                 0   \n3934         1        0      0            1             0                 0   \n4430         1        0      0            1             0                 0   \n1228         1        1      0            1             0                 0   \n18186        0        0      0            0             0                 0   \n196          1        1      0            1             0                 0   \n14067        1        0      0            0             0                 0   \n\n       search_and_rescue  security  military  child_alone      ...        \\\n17210                  0         0         0            0      ...         \n13454                  0         0         0            0      ...         \n17930                  0         0         0            0      ...         \n25767                  0         0         0            0      ...         \n10727                  0         0         0            0      ...         \n22652                  0         0         0            0      ...         \n20804                  0         0         0            0      ...         \n16273                  0         0         0            0      ...         \n9789                   0         0         0            0      ...         \n6560                   0         0         0            0      ...         \n20987                  0         0         0            0      ...         \n21225                  0         0         0            0      ...         \n25370                  0         0         0            0      ...         \n16987                  0         0         0            0      ...         \n21665                  0         0         0            0      ...         \n10688                  0         0         0            0      ...         \n20571                  0         0         0            0      ...         \n20192                  0         0         0            0      ...         \n6424                   0         0         0            0      ...         \n4294                   0         0         0            0      ...         \n14191                  0         0         0            0      ...         \n9166                   0         0         0            0      ...         \n21611                  0         0         0            0      ...         \n12281                  0         0         0            0      ...         \n25589                  0         0         0            0      ...         \n5171                   0         0         0            0      ...         \n14644                  0         0         0            0      ...         \n5304                   0         0         0            0      ...         \n8430                   0         0         0            0      ...         \n9448                   0         0         0            0      ...         \n...                  ...       ...       ...          ...      ...         \n1668                   0         0         0            0      ...         \n10552                  0         0         0            0      ...         \n9163                   0         0         0            0      ...         \n23488                  0         0         0            0      ...         \n15618                  0         0         0            0      ...         \n20301                  0         0         0            0      ...         \n2091                   0         0         0            0      ...         \n8944                   0         0         0            0      ...         \n20112                  0         0         0            0      ...         \n11932                  0         0         0            0      ...         \n22729                  0         0         0            0      ...         \n16381                  1         0         0            0      ...         \n11664                  0         0         0            0      ...         \n20516                  0         0         0            0      ...         \n23026                  0         0         0            0      ...         \n24048                  0         0         0            0      ...         \n7451                   0         0         0            0      ...         \n17277                  0         0         1            0      ...         \n4978                   0         0         0            0      ...         \n3472                   0         0         0            0      ...         \n2823                   0         0         0            0      ...         \n3389                   0         0         0            0      ...         \n8865                   0         0         0            0      ...         \n11133                  0         0         0            0      ...         \n3934                   0         0         0            0      ...         \n4430                   0         0         0            0      ...         \n1228                   0         0         0            0      ...         \n18186                  0         0         0            0      ...         \n196                    0         0         0            0      ...         \n14067                  0         0         0            0      ...         \n\n       aid_centers  other_infrastructure  weather_related  floods  storm  \\\n17210            0                     0                1       0      1   \n13454            0                     0                0       0      0   \n17930            0                     0                1       0      0   \n25767            0                     0                0       0      0   \n10727            0                     0                0       0      0   \n22652            0                     0                0       0      0   \n20804            0                     0                0       0      0   \n16273            0                     0                1       1      0   \n9789             0                     0                0       0      0   \n6560             0                     0                0       0      0   \n20987            0                     0                0       0      0   \n21225            0                     0                0       0      0   \n25370            0                     0                0       0      0   \n16987            0                     0                0       0      0   \n21665            0                     0                0       0      0   \n10688            0                     0                1       0      0   \n20571            0                     1                0       0      0   \n20192            0                     0                0       0      0   \n6424             0                     0                0       0      0   \n4294             0                     0                0       0      0   \n14191            0                     0                0       0      0   \n9166             0                     0                0       0      0   \n21611            0                     0                0       0      0   \n12281            0                     0                0       0      0   \n25589            0                     0                0       0      0   \n5171             0                     0                0       0      0   \n14644            0                     0                0       0      0   \n5304             0                     0                0       0      0   \n8430             0                     0                0       0      0   \n9448             0                     0                0       0      0   \n...            ...                   ...              ...     ...    ...   \n1668             0                     0                0       0      0   \n10552            0                     0                0       0      0   \n9163             0                     0                1       0      0   \n23488            0                     0                0       0      0   \n15618            0                     0                1       0      0   \n20301            0                     0                0       0      0   \n2091             0                     0                0       0      0   \n8944             0                     0                1       0      1   \n20112            0                     0                0       0      0   \n11932            0                     0                0       0      0   \n22729            0                     0                0       0      0   \n16381            0                     0                1       0      0   \n11664            0                     0                0       0      0   \n20516            0                     0                0       0      0   \n23026            0                     0                0       0      0   \n24048            0                     0                1       1      0   \n7451             0                     0                1       1      0   \n17277            0                     0                1       1      1   \n4978             0                     0                0       0      0   \n3472             0                     0                0       0      0   \n2823             0                     0                0       0      0   \n3389             0                     0                0       0      0   \n8865             0                     0                0       0      0   \n11133            0                     0                1       0      1   \n3934             0                     0                0       0      0   \n4430             0                     0                0       0      0   \n1228             0                     0                0       0      0   \n18186            0                     0                0       0      0   \n196              0                     0                0       0      0   \n14067            0                     0                1       0      0   \n\n       fire  earthquake  cold  other_weather  direct_report  \n17210     0           0     0              0              1  \n13454     0           0     0              0              0  \n17930     0           1     0              0              0  \n25767     0           0     0              0              0  \n10727     0           0     0              0              1  \n22652     0           0     0              0              0  \n20804     0           0     0              0              1  \n16273     0           0     0              0              1  \n9789      0           0     0              0              0  \n6560      0           0     0              0              0  \n20987     0           0     0              0              0  \n21225     0           0     0              0              0  \n25370     0           0     0              0              0  \n16987     0           0     0              0              0  \n21665     0           0     0              0              0  \n10688     0           0     0              1              0  \n20571     0           0     0              0              0  \n20192     0           0     0              0              0  \n6424      0           0     0              0              1  \n4294      0           0     0              0              1  \n14191     0           0     0              0              0  \n9166      0           0     0              0              0  \n21611     0           0     0              0              0  \n12281     0           0     0              0              0  \n25589     0           0     0              0              0  \n5171      0           0     0              0              0  \n14644     0           0     0              0              0  \n5304      0           0     0              0              0  \n8430      0           0     0              0              0  \n9448      0           0     0              0              0  \n...     ...         ...   ...            ...            ...  \n1668      0           0     0              0              1  \n10552     0           0     0              0              0  \n9163      0           1     0              0              1  \n23488     0           0     0              0              0  \n15618     0           1     0              0              0  \n20301     0           0     0              0              1  \n2091      0           0     0              0              1  \n8944      0           0     0              0              0  \n20112     0           0     0              0              0  \n11932     0           0     0              0              0  \n22729     0           0     0              0              0  \n16381     0           1     0              0              0  \n11664     0           0     0              0              0  \n20516     0           0     0              0              0  \n23026     0           0     0              0              0  \n24048     0           0     0              0              0  \n7451      0           0     0              1              0  \n17277     0           1     0              0              0  \n4978      0           0     0              0              1  \n3472      0           0     0              0              0  \n2823      0           0     0              0              1  \n3389      0           0     0              0              0  \n8865      0           0     0              0              0  \n11133     0           0     0              1              0  \n3934      0           0     0              0              0  \n4430      0           0     0              0              1  \n1228      0           0     0              0              1  \n18186     0           0     0              0              0  \n196       0           0     0              0              0  \n14067     0           1     0              0              1  \n\n[5244 rows x 36 columns], array([[1, 0, 0, ..., 0, 0, 0],\n       [1, 0, 0, ..., 0, 0, 0],\n       [1, 0, 0, ..., 0, 0, 0],\n       ..., \n       [0, 0, 0, ..., 0, 0, 0],\n       [1, 1, 0, ..., 0, 0, 1],\n       [1, 0, 0, ..., 0, 0, 0]]))"
     ]
    }
   ],
   "source": [
    "classification_report(y_test, y_pred,target_names=y.columns)"
   ]
  },
  {
   "cell_type": "markdown",
   "metadata": {},
   "source": [
    "### 6. Improve your model\n",
    "Use grid search to find better parameters. "
   ]
  },
  {
   "cell_type": "code",
   "execution_count": null,
   "metadata": {},
   "outputs": [],
   "source": [
    "parameters = \n",
    "\n",
    "cv = "
   ]
  },
  {
   "cell_type": "markdown",
   "metadata": {},
   "source": [
    "### 7. Test your model\n",
    "Show the accuracy, precision, and recall of the tuned model.  \n",
    "\n",
    "Since this project focuses on code quality, process, and  pipelines, there is no minimum performance metric needed to pass. However, make sure to fine tune your models for accuracy, precision and recall to make your project stand out - especially for your portfolio!"
   ]
  },
  {
   "cell_type": "code",
   "execution_count": null,
   "metadata": {},
   "outputs": [],
   "source": []
  },
  {
   "cell_type": "markdown",
   "metadata": {},
   "source": [
    "### 8. Try improving your model further. Here are a few ideas:\n",
    "* try other machine learning algorithms\n",
    "* add other features besides the TF-IDF"
   ]
  },
  {
   "cell_type": "code",
   "execution_count": null,
   "metadata": {},
   "outputs": [],
   "source": []
  },
  {
   "cell_type": "markdown",
   "metadata": {},
   "source": [
    "### 9. Export your model as a pickle file"
   ]
  },
  {
   "cell_type": "code",
   "execution_count": null,
   "metadata": {},
   "outputs": [],
   "source": []
  },
  {
   "cell_type": "markdown",
   "metadata": {},
   "source": [
    "### 10. Use this notebook to complete `train.py`\n",
    "Use the template file attached in the Resources folder to write a script that runs the steps above to create a database and export a model based on a new dataset specified by the user."
   ]
  },
  {
   "cell_type": "code",
   "execution_count": 32,
   "metadata": {},
   "outputs": [],
   "source": []
  },
  {
   "cell_type": "code",
   "execution_count": null,
   "metadata": {},
   "outputs": [],
   "source": []
  }
 ],
 "metadata": {
  "kernelspec": {
   "display_name": "Python 3",
   "language": "python",
   "name": "python3"
  },
  "language_info": {
   "codemirror_mode": {
    "name": "ipython",
    "version": 3
   },
   "file_extension": ".py",
   "mimetype": "text/x-python",
   "name": "python",
   "nbconvert_exporter": "python",
   "pygments_lexer": "ipython3",
   "version": "3.6.3"
  }
 },
 "nbformat": 4,
 "nbformat_minor": 2
}
